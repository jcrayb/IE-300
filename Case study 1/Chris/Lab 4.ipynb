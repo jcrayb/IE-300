{
 "cells": [
  {
   "cell_type": "code",
   "execution_count": 51,
   "id": "45b2694e",
   "metadata": {},
   "outputs": [],
   "source": [
    "import pandas as pd\n",
    "import datetime as dt\n",
    "import numpy as np"
   ]
  },
  {
   "cell_type": "code",
   "execution_count": 2,
   "id": "514a132c",
   "metadata": {},
   "outputs": [
    {
     "data": {
      "text/plain": [
       "Index(['Flight Date', 'Carrier', 'Flight Number', 'Origin', 'Destination',\n",
       "       'Departure Time', 'Departure Delay', 'Arrival Time', 'Arrival Delay',\n",
       "       'Flight Time'],\n",
       "      dtype='object')"
      ]
     },
     "execution_count": 2,
     "metadata": {},
     "output_type": "execute_result"
    }
   ],
   "source": [
    "data = pd.read_csv('FlightTime.csv')\n",
    "cols = data.columns\n",
    "cols"
   ]
  },
  {
   "cell_type": "code",
   "execution_count": null,
   "id": "27228508",
   "metadata": {},
   "outputs": [],
   "source": []
  },
  {
   "cell_type": "code",
   "execution_count": 22,
   "id": "b735e53c",
   "metadata": {},
   "outputs": [],
   "source": [
    "new_data = data\n",
    "\n",
    "for i in range(len(new_data['Flight Time'])):\n",
    "    if new_data['Flight Time'][i] <= 230:\n",
    "        new_data = new_data.drop(i)\n",
    "new_data = new_data.reset_index().drop('index', axis=1)"
   ]
  },
  {
   "cell_type": "code",
   "execution_count": 24,
   "id": "891c039d",
   "metadata": {},
   "outputs": [
    {
     "data": {
      "text/html": [
       "<div>\n",
       "<style scoped>\n",
       "    .dataframe tbody tr th:only-of-type {\n",
       "        vertical-align: middle;\n",
       "    }\n",
       "\n",
       "    .dataframe tbody tr th {\n",
       "        vertical-align: top;\n",
       "    }\n",
       "\n",
       "    .dataframe thead th {\n",
       "        text-align: right;\n",
       "    }\n",
       "</style>\n",
       "<table border=\"1\" class=\"dataframe\">\n",
       "  <thead>\n",
       "    <tr style=\"text-align: right;\">\n",
       "      <th></th>\n",
       "      <th>Flight Date</th>\n",
       "      <th>Carrier</th>\n",
       "      <th>Flight Number</th>\n",
       "      <th>Origin</th>\n",
       "      <th>Destination</th>\n",
       "      <th>Departure Time</th>\n",
       "      <th>Departure Delay</th>\n",
       "      <th>Arrival Time</th>\n",
       "      <th>Arrival Delay</th>\n",
       "      <th>Flight Time</th>\n",
       "    </tr>\n",
       "  </thead>\n",
       "  <tbody>\n",
       "    <tr>\n",
       "      <th>0</th>\n",
       "      <td>11/1/2015</td>\n",
       "      <td>AA</td>\n",
       "      <td>111</td>\n",
       "      <td>ORD</td>\n",
       "      <td>LAX</td>\n",
       "      <td>1709.0</td>\n",
       "      <td>-1.0</td>\n",
       "      <td>1952.0</td>\n",
       "      <td>2.0</td>\n",
       "      <td>283</td>\n",
       "    </tr>\n",
       "    <tr>\n",
       "      <th>1</th>\n",
       "      <td>11/1/2015</td>\n",
       "      <td>AA</td>\n",
       "      <td>1092</td>\n",
       "      <td>ORD</td>\n",
       "      <td>LAX</td>\n",
       "      <td>2021.0</td>\n",
       "      <td>-4.0</td>\n",
       "      <td>2243.0</td>\n",
       "      <td>-20.0</td>\n",
       "      <td>262</td>\n",
       "    </tr>\n",
       "    <tr>\n",
       "      <th>2</th>\n",
       "      <td>11/1/2015</td>\n",
       "      <td>AA</td>\n",
       "      <td>1081</td>\n",
       "      <td>ORD</td>\n",
       "      <td>LAX</td>\n",
       "      <td>841.0</td>\n",
       "      <td>-4.0</td>\n",
       "      <td>1052.0</td>\n",
       "      <td>-33.0</td>\n",
       "      <td>251</td>\n",
       "    </tr>\n",
       "    <tr>\n",
       "      <th>3</th>\n",
       "      <td>11/1/2015</td>\n",
       "      <td>AA</td>\n",
       "      <td>1243</td>\n",
       "      <td>ORD</td>\n",
       "      <td>LAX</td>\n",
       "      <td>705.0</td>\n",
       "      <td>-5.0</td>\n",
       "      <td>919.0</td>\n",
       "      <td>-31.0</td>\n",
       "      <td>254</td>\n",
       "    </tr>\n",
       "    <tr>\n",
       "      <th>4</th>\n",
       "      <td>11/1/2015</td>\n",
       "      <td>AA</td>\n",
       "      <td>1358</td>\n",
       "      <td>ORD</td>\n",
       "      <td>LAX</td>\n",
       "      <td>1508.0</td>\n",
       "      <td>-2.0</td>\n",
       "      <td>1739.0</td>\n",
       "      <td>-10.0</td>\n",
       "      <td>271</td>\n",
       "    </tr>\n",
       "    <tr>\n",
       "      <th>...</th>\n",
       "      <td>...</td>\n",
       "      <td>...</td>\n",
       "      <td>...</td>\n",
       "      <td>...</td>\n",
       "      <td>...</td>\n",
       "      <td>...</td>\n",
       "      <td>...</td>\n",
       "      <td>...</td>\n",
       "      <td>...</td>\n",
       "      <td>...</td>\n",
       "    </tr>\n",
       "    <tr>\n",
       "      <th>723</th>\n",
       "      <td>11/30/2015</td>\n",
       "      <td>UA</td>\n",
       "      <td>793</td>\n",
       "      <td>ORD</td>\n",
       "      <td>LAX</td>\n",
       "      <td>1610.0</td>\n",
       "      <td>3.0</td>\n",
       "      <td>1827.0</td>\n",
       "      <td>-16.0</td>\n",
       "      <td>257</td>\n",
       "    </tr>\n",
       "    <tr>\n",
       "      <th>724</th>\n",
       "      <td>11/30/2015</td>\n",
       "      <td>UA</td>\n",
       "      <td>1098</td>\n",
       "      <td>ORD</td>\n",
       "      <td>LAX</td>\n",
       "      <td>611.0</td>\n",
       "      <td>-5.0</td>\n",
       "      <td>829.0</td>\n",
       "      <td>-25.0</td>\n",
       "      <td>258</td>\n",
       "    </tr>\n",
       "    <tr>\n",
       "      <th>725</th>\n",
       "      <td>11/30/2015</td>\n",
       "      <td>UA</td>\n",
       "      <td>1440</td>\n",
       "      <td>ORD</td>\n",
       "      <td>LAX</td>\n",
       "      <td>2247.0</td>\n",
       "      <td>97.0</td>\n",
       "      <td>101.0</td>\n",
       "      <td>75.0</td>\n",
       "      <td>254</td>\n",
       "    </tr>\n",
       "    <tr>\n",
       "      <th>726</th>\n",
       "      <td>11/30/2015</td>\n",
       "      <td>VX</td>\n",
       "      <td>231</td>\n",
       "      <td>ORD</td>\n",
       "      <td>LAX</td>\n",
       "      <td>732.0</td>\n",
       "      <td>32.0</td>\n",
       "      <td>957.0</td>\n",
       "      <td>22.0</td>\n",
       "      <td>265</td>\n",
       "    </tr>\n",
       "    <tr>\n",
       "      <th>727</th>\n",
       "      <td>11/30/2015</td>\n",
       "      <td>VX</td>\n",
       "      <td>241</td>\n",
       "      <td>ORD</td>\n",
       "      <td>LAX</td>\n",
       "      <td>1715.0</td>\n",
       "      <td>5.0</td>\n",
       "      <td>1940.0</td>\n",
       "      <td>-5.0</td>\n",
       "      <td>265</td>\n",
       "    </tr>\n",
       "  </tbody>\n",
       "</table>\n",
       "<p>728 rows × 10 columns</p>\n",
       "</div>"
      ],
      "text/plain": [
       "    Flight Date Carrier  Flight Number Origin Destination  Departure Time   \n",
       "0     11/1/2015      AA            111    ORD         LAX          1709.0  \\\n",
       "1     11/1/2015      AA           1092    ORD         LAX          2021.0   \n",
       "2     11/1/2015      AA           1081    ORD         LAX           841.0   \n",
       "3     11/1/2015      AA           1243    ORD         LAX           705.0   \n",
       "4     11/1/2015      AA           1358    ORD         LAX          1508.0   \n",
       "..          ...     ...            ...    ...         ...             ...   \n",
       "723  11/30/2015      UA            793    ORD         LAX          1610.0   \n",
       "724  11/30/2015      UA           1098    ORD         LAX           611.0   \n",
       "725  11/30/2015      UA           1440    ORD         LAX          2247.0   \n",
       "726  11/30/2015      VX            231    ORD         LAX           732.0   \n",
       "727  11/30/2015      VX            241    ORD         LAX          1715.0   \n",
       "\n",
       "     Departure Delay  Arrival Time  Arrival Delay  Flight Time  \n",
       "0               -1.0        1952.0            2.0          283  \n",
       "1               -4.0        2243.0          -20.0          262  \n",
       "2               -4.0        1052.0          -33.0          251  \n",
       "3               -5.0         919.0          -31.0          254  \n",
       "4               -2.0        1739.0          -10.0          271  \n",
       "..               ...           ...            ...          ...  \n",
       "723              3.0        1827.0          -16.0          257  \n",
       "724             -5.0         829.0          -25.0          258  \n",
       "725             97.0         101.0           75.0          254  \n",
       "726             32.0         957.0           22.0          265  \n",
       "727              5.0        1940.0           -5.0          265  \n",
       "\n",
       "[728 rows x 10 columns]"
      ]
     },
     "execution_count": 24,
     "metadata": {},
     "output_type": "execute_result"
    }
   ],
   "source": [
    "new_data"
   ]
  },
  {
   "cell_type": "code",
   "execution_count": 18,
   "id": "1da361e2",
   "metadata": {},
   "outputs": [],
   "source": [
    "def target_flight_time(d, lo, ld):\n",
    "    return 0.117*d+.517*(lo-ld)+20"
   ]
  },
  {
   "cell_type": "code",
   "execution_count": 19,
   "id": "94ae230f",
   "metadata": {},
   "outputs": [],
   "source": [
    "tft = target_flight_time(1741.16, -87.9, -118.41)"
   ]
  },
  {
   "cell_type": "code",
   "execution_count": 37,
   "id": "5fa1c23f",
   "metadata": {},
   "outputs": [],
   "source": [
    "total_time_dict = {'airline':[], 'total_time':[]}\n",
    "\n",
    "for i in range(len(new_data['Carrier'])):\n",
    "    total_time_dict['airline'] += [new_data['Carrier'][i]]\n",
    "    total_time_dict['total_time'] += [new_data['Departure Delay'][i]/2+new_data['Arrival Delay'][i]/2+new_data['Flight Time'][i]]"
   ]
  },
  {
   "cell_type": "code",
   "execution_count": 56,
   "id": "0e004697",
   "metadata": {},
   "outputs": [
    {
     "data": {
      "text/plain": [
       "280.2541208791209"
      ]
     },
     "execution_count": 56,
     "metadata": {},
     "output_type": "execute_result"
    }
   ],
   "source": [
    "total_time_df = pd.DataFrame(data=total_time_dict)\n",
    "mean_total_time = total_time_df['total_time'].mean()\n",
    "mean_total_time"
   ]
  },
  {
   "cell_type": "code",
   "execution_count": 45,
   "id": "6e77f6a0",
   "metadata": {},
   "outputs": [
    {
     "data": {
      "text/plain": [
       "['AA', 'F9', 'NK', 'UA', 'VX']"
      ]
     },
     "execution_count": 45,
     "metadata": {},
     "output_type": "execute_result"
    }
   ],
   "source": [
    "airlines = []\n",
    "\n",
    "for airline in new_data['Carrier']:\n",
    "    if airline not in airlines:\n",
    "        airlines += [airline]\n",
    "        \n",
    "airlines"
   ]
  },
  {
   "cell_type": "code",
   "execution_count": 59,
   "id": "97c8dcb5",
   "metadata": {},
   "outputs": [
    {
     "data": {
      "text/plain": [
       "({'AA': 275.9630281690141,\n",
       "  'F9': 293.6034482758621,\n",
       "  'NK': 283.54237288135596,\n",
       "  'UA': 284.75671140939596,\n",
       "  'VX': 268.11206896551727},\n",
       " {'AA': -4.2910927101067955,\n",
       "  'F9': 13.349327396741216,\n",
       "  'NK': 3.288252002235083,\n",
       "  'UA': 4.502590530275086,\n",
       "  'VX': -12.14205191360361})"
      ]
     },
     "execution_count": 59,
     "metadata": {},
     "output_type": "execute_result"
    }
   ],
   "source": [
    "flight_times = {}\n",
    "mean_flight_times = {}\n",
    "added_time = {}\n",
    "\n",
    "for airline in airlines:\n",
    "    flight_times[airline] = []\n",
    "    \n",
    "for i in range(len(total_time_df)):\n",
    "    flight_times[total_time_df['airline'][i]] += [total_time_df['total_time'][i]]\n",
    "    \n",
    "for airline in flight_times:\n",
    "    mean = np.mean(np.array(flight_times[airline]))\n",
    "    mean_flight_times[airline] = mean\n",
    "    added_time[airline] = mean-mean_total_time\n",
    "\n",
    "mean_flight_times, added_time"
   ]
  },
  {
   "cell_type": "code",
   "execution_count": null,
   "id": "a9362e92",
   "metadata": {},
   "outputs": [],
   "source": []
  }
 ],
 "metadata": {
  "kernelspec": {
   "display_name": "Python 3 (ipykernel)",
   "language": "python",
   "name": "python3"
  },
  "language_info": {
   "codemirror_mode": {
    "name": "ipython",
    "version": 3
   },
   "file_extension": ".py",
   "mimetype": "text/x-python",
   "name": "python",
   "nbconvert_exporter": "python",
   "pygments_lexer": "ipython3",
   "version": "3.11.3"
  }
 },
 "nbformat": 4,
 "nbformat_minor": 5
}
